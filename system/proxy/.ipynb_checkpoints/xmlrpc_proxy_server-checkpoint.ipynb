{
 "cells": [
  {
   "cell_type": "code",
   "execution_count": null,
   "id": "31de60e3",
   "metadata": {},
   "outputs": [
    {
     "name": "stdout",
     "output_type": "stream",
     "text": [
      "Proxy server starting. Listening on port 8073...\n"
     ]
    }
   ],
   "source": [
    "import xmlrpc.client\n",
    "import xmlrpc.server\n",
    "from datetime import datetime\n",
    "\n",
    "\n",
    "class RequestHandler(xmlrpc.server.SimpleXMLRPCRequestHandler):\n",
    "    rpc_paths = ('/RPC2',)\n",
    "\n",
    "\n",
    "server = xmlrpc.server.SimpleXMLRPCServer((\"localhost\", 8073), requestHandler=RequestHandler)\n",
    "origin_server = xmlrpc.client.ServerProxy(\"http://localhost:8071\")\n",
    "stats_server = xmlrpc.client.ServerProxy(\"http://localhost:8072\")\n",
    "\n",
    "\n",
    "def proxy(action, action_type, args):\n",
    "    start = datetime.now().timestamp()\n",
    "    result = action(*args)\n",
    "    end = datetime.now().timestamp()\n",
    "    duration = (end - start) * 1000\n",
    "    stats_server.log(action_type, int(start), int(duration))\n",
    "    return result\n",
    "\n",
    "\n",
    "def black_list_check(*args):\n",
    "    return proxy(origin_server.black_list_check, \"black_list_check\", args)\n",
    "\n",
    "\n",
    "def black_list_check_by_fullname_and_birth(*args):\n",
    "    return proxy(origin_server.black_list_check_by_fullname_and_birth, \"black_list_check_by_fullname_and_birth\", args)\n",
    "\n",
    "\n",
    "def send_back_binary(*args):\n",
    "    return proxy(origin_server.send_back_binary, \"send_back_binary\", args)\n",
    "\n",
    "\n",
    "def send_back_inversion(*args):\n",
    "    return proxy(origin_server.send_back_inversion, \"send_back_inversion\", args)\n",
    "\n",
    "\n",
    "def image_binarization_by_limit(*args):\n",
    "    return proxy(origin_server.image_binarization_by_limit, \"image_binarization_by_limit\", args)\n",
    "\n",
    "\n",
    "def rotate_image(*args):\n",
    "    return proxy(origin_server.rotate_image, \"rotate_image\", args)\n",
    "\n",
    "\n",
    "server.register_function(black_list_check, 'black_list_check')\n",
    "server.register_function(black_list_check_by_fullname_and_birth, 'black_list_check_by_fullname_and_birth')\n",
    "server.register_function(send_back_binary, 'send_back_binary')\n",
    "server.register_function(send_back_inversion, 'send_back_inversion')\n",
    "server.register_function(image_binarization_by_limit, 'image_binarization_by_limit')\n",
    "server.register_function(rotate_image, 'rotate_image')\n",
    "\n",
    "print(\"Proxy server starting. Listening on port 8073...\")\n",
    "server.serve_forever()\n",
    "print(\"Disconnected\")"
   ]
  },
  {
   "cell_type": "code",
   "execution_count": null,
   "id": "51a599e4",
   "metadata": {},
   "outputs": [],
   "source": []
  }
 ],
 "metadata": {
  "kernelspec": {
   "display_name": "Python 3 (ipykernel)",
   "language": "python",
   "name": "python3"
  },
  "language_info": {
   "codemirror_mode": {
    "name": "ipython",
    "version": 3
   },
   "file_extension": ".py",
   "mimetype": "text/x-python",
   "name": "python",
   "nbconvert_exporter": "python",
   "pygments_lexer": "ipython3",
   "version": "3.11.5"
  }
 },
 "nbformat": 4,
 "nbformat_minor": 5
}

{
 "cells": [
  {
   "cell_type": "code",
   "execution_count": null,
   "id": "b97874f5",
   "metadata": {},
   "outputs": [],
   "source": [
    "import xmlrpc.client\n",
    "\n",
    "server = xmlrpc.client.ServerProxy(\"http://localhost:8072\")\n",
    "\n",
    "logs = server.get_by_event('send_back_inversion')\n",
    "print(logs)\n",
    "\n",
    "logs = server.get_in_period('2023-11-15 22:42:28', '2025-10-10 23:20:25')\n",
    "print(logs)\n",
    "\n",
    "logs = server.get_by_duration(7, 8)\n",
    "print(logs)"
   ]
  }
 ],
 "metadata": {
  "kernelspec": {
   "display_name": "Python 3 (ipykernel)",
   "language": "python",
   "name": "python3"
  },
  "language_info": {
   "codemirror_mode": {
    "name": "ipython",
    "version": 3
   },
   "file_extension": ".py",
   "mimetype": "text/x-python",
   "name": "python",
   "nbconvert_exporter": "python",
   "pygments_lexer": "ipython3",
   "version": "3.11.5"
  }
 },
 "nbformat": 4,
 "nbformat_minor": 5
}

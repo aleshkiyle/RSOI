{
 "cells": [
  {
   "cell_type": "code",
   "execution_count": null,
   "id": "b7401016",
   "metadata": {},
   "outputs": [],
   "source": [
    "import xmlrpc.client\n",
    "\n",
    "server = xmlrpc.client.ServerProxy(\"http://localhost:8072\")\n",
    "\n",
    "logs = server.get_by_event('creating event3')\n",
    "print(logs)\n",
    "\n",
    "logs = server.get_in_period('2023-01-18 18:11:28', '2025-01-18 22:22:22')\n",
    "print(logs)\n",
    "\n",
    "# server.log('creating event')\n",
    "# server.log('creating event2')\n",
    "# server.log('creating event3')"
   ]
  }
 ],
 "metadata": {
  "kernelspec": {
   "display_name": "Python 3 (ipykernel)",
   "language": "python",
   "name": "python3"
  },
  "language_info": {
   "codemirror_mode": {
    "name": "ipython",
    "version": 3
   },
   "file_extension": ".py",
   "mimetype": "text/x-python",
   "name": "python",
   "nbconvert_exporter": "python",
   "pygments_lexer": "ipython3",
   "version": "3.11.5"
  }
 },
 "nbformat": 4,
 "nbformat_minor": 5
}

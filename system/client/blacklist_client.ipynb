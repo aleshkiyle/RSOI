{
 "cells": [
  {
   "cell_type": "code",
   "execution_count": 1,
   "id": "99c47493",
   "metadata": {},
   "outputs": [
    {
     "name": "stdout",
     "output_type": "stream",
     "text": [
      "Петров Петрович Петр born 07.08.1985 is bad guy\n",
      "Петров Иванович Петр born 07.08.1985 not found\n",
      "Петров Петрович Петр born 15.04.1985 not found\n",
      "Петров Петрович Петр born 01.01.2001 not found\n"
     ]
    }
   ],
   "source": [
    "import xmlrpc.client\n",
    "\n",
    "server = xmlrpc.client.ServerProxy(\"http://localhost:8073\")\n",
    "\n",
    "print(server.black_list_check_by_fullname_and_birth(u'Петров', u'Петр', u'Петрович', \"07.08.1985\"))\n",
    "print(server.black_list_check_by_fullname_and_birth(u'Петров', u'Петр', u'Иванович', \"07.08.1985\"))\n",
    "print(server.black_list_check_by_fullname_and_birth(u'Петров', u'Петр', u'Петрович', \"15.04.1985\"))\n",
    "print(server.black_list_check_by_fullname_and_birth(u'Петров', u'Петр', u'Петрович', \"01.01.2001\"))"
   ]
  },
  {
   "cell_type": "code",
   "execution_count": null,
   "id": "ef6a3b47",
   "metadata": {},
   "outputs": [],
   "source": []
  }
 ],
 "metadata": {
  "kernelspec": {
   "display_name": "Python 3 (ipykernel)",
   "language": "python",
   "name": "python3"
  },
  "language_info": {
   "codemirror_mode": {
    "name": "ipython",
    "version": 3
   },
   "file_extension": ".py",
   "mimetype": "text/x-python",
   "name": "python",
   "nbconvert_exporter": "python",
   "pygments_lexer": "ipython3",
   "version": "3.11.5"
  }
 },
 "nbformat": 4,
 "nbformat_minor": 5
}

{
 "cells": [
  {
   "cell_type": "code",
   "execution_count": null,
   "id": "d2da624a",
   "metadata": {},
   "outputs": [],
   "source": [
    "import xmlrpc.client\n",
    "\n",
    "server = xmlrpc.client.ServerProxy(\"http://localhost:8071\")\n",
    "\n",
    "print(server.black_list_check_by_fullname(u'Петров', u'Петр', u'Петрович', \"07.08.1985\"))\n",
    "print(server.black_list_check_by_fullname(u'Петров', u'Петр', u'Иванович', \"07.08.1985\"))\n",
    "print(server.black_list_check_by_fullname(u'Петров', u'Петр', u'Петрович', \"15.04.1985\"))\n",
    "print(server.black_list_check_by_fullname(u'Петров', u'Петр', u'Петрович', \"01.01.2001\"))"
   ]
  }
 ],
 "metadata": {
  "kernelspec": {
   "display_name": "Python 3 (ipykernel)",
   "language": "python",
   "name": "python3"
  },
  "language_info": {
   "codemirror_mode": {
    "name": "ipython",
    "version": 3
   },
   "file_extension": ".py",
   "mimetype": "text/x-python",
   "name": "python",
   "nbconvert_exporter": "python",
   "pygments_lexer": "ipython3",
   "version": "3.11.5"
  }
 },
 "nbformat": 4,
 "nbformat_minor": 5
}

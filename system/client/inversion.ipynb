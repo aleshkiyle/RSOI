{
 "cells": [
  {
   "cell_type": "code",
   "execution_count": null,
   "id": "dd6b1017",
   "metadata": {},
   "outputs": [],
   "source": [
    "import pickle\n",
    "import xmlrpc.client\n",
    "\n",
    "import matplotlib.pyplot\n",
    "from PIL import Image\n",
    "from pylab import *\n",
    "\n",
    "server = xmlrpc.client.ServerProxy(\"http://localhost:8073\")\n",
    "\n",
    "\n",
    "def inv_color(image_array):\n",
    "    pickle_image = pickle.dumps(image_array)\n",
    "    binary_image = xmlrpc.client.Binary(pickle_image)\n",
    "    response = server.send_back_inversion(binary_image)\n",
    "    inverse_image_array = pickle.loads(response.data)\n",
    "    return inverse_image_array\n",
    "\n",
    "\n",
    "# Монохромное изображение\n",
    "monochrome_image = Image.open('resources/11.bmp')\n",
    "monochrome_image_array = array(monochrome_image)\n",
    "matplotlib.pyplot.imshow(monochrome_image_array, cmap=\"gray\")\n",
    "matplotlib.pyplot.show()\n",
    "\n",
    "inverse_monochrome_image_array = inv_color(monochrome_image_array)\n",
    "matplotlib.pyplot.imshow(inverse_monochrome_image_array, cmap=\"gray\")\n",
    "matplotlib.pyplot.show()\n",
    "\n",
    "# Цветное изображение\n",
    "color_image = Image.open('resources/Jellyfish.jpg')\n",
    "color_image_array = array(color_image)\n",
    "matplotlib.pyplot.imshow(color_image, cmap=\"gray\")\n",
    "matplotlib.pyplot.show()\n",
    "\n",
    "inverse_color_image_array = inv_color(color_image_array)\n",
    "matplotlib.pyplot.imshow(inverse_color_image_array, cmap=\"gray\")\n",
    "matplotlib.pyplot.show()"
   ]
  }
 ],
 "metadata": {
  "kernelspec": {
   "display_name": "Python 3 (ipykernel)",
   "language": "python",
   "name": "python3"
  },
  "language_info": {
   "codemirror_mode": {
    "name": "ipython",
    "version": 3
   },
   "file_extension": ".py",
   "mimetype": "text/x-python",
   "name": "python",
   "nbconvert_exporter": "python",
   "pygments_lexer": "ipython3",
   "version": "3.11.5"
  }
 },
 "nbformat": 4,
 "nbformat_minor": 5
}

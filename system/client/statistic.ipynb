{
 "cells": [
  {
   "cell_type": "code",
   "execution_count": null,
   "id": "5a3b38d6",
   "metadata": {},
   "outputs": [],
   "source": [
    "import xmlrpc.client\n",
    "\n",
    "server = xmlrpc.client.ServerProxy(\"http://localhost:8072\")\n",
    "\n",
    "logs = server.get_in_period(1699199985, 1699499448)\n",
    "print(logs)\n",
    "\n",
    "logs = server.get_by_duration(2000, 3000)\n",
    "print(logs)"
   ]
  }
 ],
 "metadata": {
  "kernelspec": {
   "display_name": "Python 3 (ipykernel)",
   "language": "python",
   "name": "python3"
  },
  "language_info": {
   "codemirror_mode": {
    "name": "ipython",
    "version": 3
   },
   "file_extension": ".py",
   "mimetype": "text/x-python",
   "name": "python",
   "nbconvert_exporter": "python",
   "pygments_lexer": "ipython3",
   "version": "3.11.5"
  }
 },
 "nbformat": 4,
 "nbformat_minor": 5
}

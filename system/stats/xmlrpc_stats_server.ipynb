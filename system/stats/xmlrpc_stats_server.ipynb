{
 "cells": [
  {
   "cell_type": "code",
   "execution_count": null,
   "id": "52a7323c",
   "metadata": {},
   "outputs": [
    {
     "name": "stdout",
     "output_type": "stream",
     "text": [
      "Stats server starting. Listening on port 8072...\n"
     ]
    },
    {
     "name": "stderr",
     "output_type": "stream",
     "text": [
      "127.0.0.1 - - [18/Jan/2024 19:06:23] \"POST /RPC2 HTTP/1.1\" 200 -\n",
      "127.0.0.1 - - [18/Jan/2024 19:06:29] \"POST /RPC2 HTTP/1.1\" 200 -\n",
      "127.0.0.1 - - [18/Jan/2024 19:06:36] \"POST /RPC2 HTTP/1.1\" 200 -\n",
      "127.0.0.1 - - [18/Jan/2024 19:06:42] \"POST /RPC2 HTTP/1.1\" 200 -\n",
      "127.0.0.1 - - [18/Jan/2024 19:10:28] \"POST /RPC2 HTTP/1.1\" 200 -\n",
      "127.0.0.1 - - [18/Jan/2024 19:10:38] \"POST /RPC2 HTTP/1.1\" 200 -\n"
     ]
    }
   ],
   "source": [
    "import sqlite3\n",
    "import xmlrpc.server\n",
    "\n",
    "\n",
    "class RequestHandler(xmlrpc.server.SimpleXMLRPCRequestHandler):\n",
    "    rpc_paths = ('/RPC2',)\n",
    "\n",
    "\n",
    "server = xmlrpc.server.SimpleXMLRPCServer((\"localhost\", 8072), requestHandler=RequestHandler)\n",
    "db_name = 'log.db'\n",
    "\n",
    "\n",
    "def log(action_type, start, duration):\n",
    "    conn = sqlite3.connect(db_name)\n",
    "    cursor = conn.cursor()\n",
    "    cursor.execute(\"INSERT INTO logs VALUES (NULL, ?, ?, ?)\", (str(action_type), start, duration))\n",
    "    conn.commit()\n",
    "    cursor.close()\n",
    "    conn.close()\n",
    "    return True\n",
    "\n",
    "\n",
    "def execute_query(sql, args):\n",
    "    conn = sqlite3.connect(db_name)\n",
    "    cursor = conn.cursor()\n",
    "    cursor.execute(sql, args)\n",
    "    rows = cursor.fetchall()\n",
    "    cursor.close()\n",
    "    conn.close()\n",
    "    return rows\n",
    "\n",
    "\n",
    "def get_by_event(event):\n",
    "    sql = \"SELECT * FROM logs WHERE action_type = ?\"\n",
    "    return execute_query(sql, (event,))\n",
    "\n",
    "\n",
    "def get_in_period(start_date, end_date):\n",
    "    sql = \"SELECT * FROM logs WHERE created >= ? AND created <= ?\"\n",
    "    return execute_query(sql, (start_date, end_date))\n",
    "\n",
    "\n",
    "def get_by_duration(min_duration, max_duration):\n",
    "    sql = \"SELECT * FROM logs WHERE duration >= ? AND duration <= ?\"\n",
    "    return execute_query(sql, (min_duration, max_duration))\n",
    "\n",
    "\n",
    "def create_table():\n",
    "    conn = sqlite3.connect(db_name)\n",
    "    cursor = conn.cursor()\n",
    "    cursor.execute('''\n",
    "        CREATE TABLE IF NOT EXISTS logs (\n",
    "            id INTEGER PRIMARY KEY,\n",
    "            action_type TEXT NOT NULL,\n",
    "            created TEXT NOT NULL,\n",
    "            duration INTEGER NOT NULL\n",
    "        )\n",
    "    ''')\n",
    "    conn.commit()\n",
    "    cursor.close()\n",
    "    conn.close()\n",
    "\n",
    "\n",
    "create_table()\n",
    "server.register_function(log, 'log')\n",
    "server.register_function(get_by_event, 'get_by_event')\n",
    "server.register_function(get_in_period, 'get_in_period')\n",
    "server.register_function(get_by_duration, 'get_by_duration')\n",
    "print(\"Stats server starting. Listening on port 8072...\")\n",
    "server.serve_forever()"
   ]
  },
  {
   "cell_type": "code",
   "execution_count": null,
   "id": "a1e1bf0b",
   "metadata": {},
   "outputs": [],
   "source": []
  }
 ],
 "metadata": {
  "kernelspec": {
   "display_name": "Python 3 (ipykernel)",
   "language": "python",
   "name": "python3"
  },
  "language_info": {
   "codemirror_mode": {
    "name": "ipython",
    "version": 3
   },
   "file_extension": ".py",
   "mimetype": "text/x-python",
   "name": "python",
   "nbconvert_exporter": "python",
   "pygments_lexer": "ipython3",
   "version": "3.11.5"
  }
 },
 "nbformat": 4,
 "nbformat_minor": 5
}

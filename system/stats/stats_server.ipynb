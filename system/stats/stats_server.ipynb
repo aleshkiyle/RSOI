{
 "cells": [
  {
   "cell_type": "code",
   "execution_count": null,
   "id": "965cd49a",
   "metadata": {},
   "outputs": [
    {
     "name": "stdout",
     "output_type": "stream",
     "text": [
      "Stats server starting. Listening on port 8072...\n"
     ]
    },
    {
     "name": "stderr",
     "output_type": "stream",
     "text": [
      "127.0.0.1 - - [18/Jan/2024 18:21:24] \"POST /RPC2 HTTP/1.1\" 200 -\n",
      "127.0.0.1 - - [18/Jan/2024 18:21:30] \"POST /RPC2 HTTP/1.1\" 200 -\n",
      "127.0.0.1 - - [18/Jan/2024 18:21:36] \"POST /RPC2 HTTP/1.1\" 200 -\n",
      "127.0.0.1 - - [18/Jan/2024 18:21:42] \"POST /RPC2 HTTP/1.1\" 200 -\n",
      "127.0.0.1 - - [18/Jan/2024 18:21:53] \"POST /RPC2 HTTP/1.1\" 200 -\n",
      "127.0.0.1 - - [18/Jan/2024 18:22:05] \"POST /RPC2 HTTP/1.1\" 200 -\n",
      "127.0.0.1 - - [18/Jan/2024 18:23:47] \"POST /RPC2 HTTP/1.1\" 200 -\n",
      "127.0.0.1 - - [18/Jan/2024 18:23:53] \"POST /RPC2 HTTP/1.1\" 200 -\n"
     ]
    }
   ],
   "source": [
    "import glob\n",
    "import os\n",
    "import xmlrpc.server\n",
    "from datetime import datetime\n",
    "\n",
    "import pandas\n",
    "\n",
    "\n",
    "class RequestHandler(xmlrpc.server.SimpleXMLRPCRequestHandler):\n",
    "    rpc_paths = ('/RPC2',)\n",
    "\n",
    "\n",
    "server = xmlrpc.server.SimpleXMLRPCServer((\"localhost\", 8072), requestHandler=RequestHandler)\n",
    "max_size = 100\n",
    "\n",
    "\n",
    "def try_fix_log():\n",
    "    file = open('logs/log.csv', 'r')\n",
    "    line_count = len(file.readlines())\n",
    "    file.close()\n",
    "    if line_count >= max_size:\n",
    "        os.rename('logs/log.csv', 'logs/' + datetime.now().strftime(\"%Y%m%d_%H%M%S\") + \".csv\")\n",
    "        new_file = open('logs/log.csv', 'x')\n",
    "        new_file.close()\n",
    "\n",
    "\n",
    "def log(event):\n",
    "    try_fix_log()\n",
    "    file = open('logs/log.csv', 'a')\n",
    "    file.write(str(event) + ',' + datetime.now().strftime(\"%Y-%m-%d %H:%M:%S\") + '\\n')\n",
    "    file.close()\n",
    "    return True\n",
    "\n",
    "\n",
    "def open_files_in_directory(directory_path):\n",
    "    csv_files = glob.glob(directory_path + \"/*.csv\")\n",
    "    all_rows = []\n",
    "    for file in csv_files:\n",
    "        df = pandas.read_csv(file, header=None)\n",
    "        all_rows += df.itertuples(index=False, name=None)\n",
    "    return all_rows\n",
    "\n",
    "\n",
    "def get_by_event(event):\n",
    "    all_rows = open_files_in_directory('logs')\n",
    "    return list(filter(lambda row: row[0] == event, all_rows))\n",
    "\n",
    "\n",
    "def get_in_period(start, end):\n",
    "    all_rows = open_files_in_directory('logs')\n",
    "    return list(filter(lambda row: end >= row[1] >= start, all_rows))\n",
    "\n",
    "\n",
    "\n",
    "server.register_function(log, 'log')\n",
    "server.register_function(get_by_event, 'get_by_event')\n",
    "server.register_function(get_in_period, 'get_in_period')\n",
    "print(\"Stats server starting. Listening on port 8072...\")\n",
    "server.serve_forever()\n"
   ]
  },
  {
   "cell_type": "code",
   "execution_count": null,
   "id": "0fdd67db",
   "metadata": {},
   "outputs": [],
   "source": []
  }
 ],
 "metadata": {
  "kernelspec": {
   "display_name": "Python 3 (ipykernel)",
   "language": "python",
   "name": "python3"
  },
  "language_info": {
   "codemirror_mode": {
    "name": "ipython",
    "version": 3
   },
   "file_extension": ".py",
   "mimetype": "text/x-python",
   "name": "python",
   "nbconvert_exporter": "python",
   "pygments_lexer": "ipython3",
   "version": "3.11.5"
  }
 },
 "nbformat": 4,
 "nbformat_minor": 5
}
